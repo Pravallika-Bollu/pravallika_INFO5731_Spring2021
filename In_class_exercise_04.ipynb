{
  "nbformat": 4,
  "nbformat_minor": 0,
  "metadata": {
    "colab": {
      "name": "In_class_exercise_04.ipynb",
      "provenance": [],
      "collapsed_sections": [],
      "include_colab_link": true
    },
    "kernelspec": {
      "display_name": "Python 3",
      "language": "python",
      "name": "python3"
    },
    "language_info": {
      "codemirror_mode": {
        "name": "ipython",
        "version": 3
      },
      "file_extension": ".py",
      "mimetype": "text/x-python",
      "name": "python",
      "nbconvert_exporter": "python",
      "pygments_lexer": "ipython3",
      "version": "3.8.5"
    }
  },
  "cells": [
    {
      "cell_type": "markdown",
      "metadata": {
        "id": "view-in-github",
        "colab_type": "text"
      },
      "source": [
        "<a href=\"https://colab.research.google.com/github/Pravallika-Bollu/pravallika_INFO5731_Spring2021/blob/main/In_class_exercise_04.ipynb\" target=\"_parent\"><img src=\"https://colab.research.google.com/assets/colab-badge.svg\" alt=\"Open In Colab\"/></a>"
      ]
    },
    {
      "cell_type": "markdown",
      "metadata": {
        "id": "EuX00KHNeSpw"
      },
      "source": [
        "# **The fourth in-class-exercise (20 points in total, 2/9/2021)**"
      ]
    },
    {
      "cell_type": "markdown",
      "metadata": {
        "id": "s-vTOb03hG1f"
      },
      "source": [
        "# 1. Text Data Preprocessing\n",
        "\n",
        "Here is a [legal case](https://github.com/unt-iialab/info5731_spring2021/blob/main/class_exercises/01-05-1%20%20Adams%20v%20Tanner.txt) we collected from westlaw, please follow the steps we mentioned in lesson 5 to clean the data:\n",
        "\n",
        "\n",
        "\n",
        "## 1.1 Basic feature extraction using text data (4 points)\n",
        "\n",
        "*   Number of sentences\n",
        "*   Number of words\n",
        "*   Number of characters\n",
        "*   Average word length\n",
        "*   Number of stopwords\n",
        "*   Number of special characters\n",
        "*   Number of numerics\n",
        "*   Number of uppercase words\n",
        "\n",
        "## 1.2 Basic Text Pre-processing of text data (4 points)\n",
        "\n",
        "*   Lower casing\n",
        "*   Punctuation removal\n",
        "*   Stopwords removal\n",
        "*   Frequent words removal\n",
        "*   Rare words removal\n",
        "*   Spelling correction\n",
        "*   Tokenization\n",
        "*   Stemming\n",
        "*   Lemmatization\n",
        "\n",
        "## 1.3 Save all the **clean sentences** to a **csv file** (one column, each raw is a sentence) after finishing all the steps above. (4 points)\n",
        "\n",
        "\n",
        "## 1.4 Advance Text Processing (Extra credit: 4 points)\n",
        "\n",
        "*   Calculate the term frequency of all the terms.\n",
        "*   Print out top 10 1-gram, top 10 2-grams, and top 10 3-grams terms as features.\n"
      ]
    },
    {
      "cell_type": "code",
      "metadata": {
        "colab": {
          "base_uri": "https://localhost:8080/"
        },
        "id": "vR0L3_CreM_A",
        "outputId": "44536484-d2d7-4263-c18e-f877f72d51b3"
      },
      "source": [
        "# Write your code here\n",
        "import pandas as pd\n",
        "import nltk\n",
        "import csv\n",
        "import textblob\n",
        "import re\n",
        "\n",
        "\n",
        "from nltk.corpus import stopwords\n",
        "from textblob import TextBlob\n",
        "from nltk.stem import PorterStemmer\n",
        "from textblob import Word\n",
        "\n",
        "legal = pd.read_csv('/content/legalcase/01-05-1  Adams v Tanner.txt', names=[\"tweet\"], delimiter=\"\\t\")\n",
        "#print(legal)\n",
        "legal['word_count'] = legal['tweet'].apply(lambda x: len(str(x).split(\" \")))\n",
        "legal['char_count']=legal['tweet'].str.len()\n",
        "\n",
        "def avg_word(sentence):\n",
        "  words=sentence.split(\" \")\n",
        "  return (sum(len(word) for word in words)/len(words))\n",
        "\n",
        "legal['average_word'] = legal['tweet'].apply(lambda x: avg_word(x))\n",
        "nltk.download('stopwords')\n",
        "stop=stopwords.words('english')\n",
        "legal['stopwords']=legal['tweet'].apply(lambda x:len([x for x in x.split() if x in stop]))\n",
        "#legal['hashtags']=legal['tweet'].apply(lambda x:len([x for x in x.split() if x.startswith('#')]))\n",
        "legal['specialchars']=legal['tweet'].apply(lambda x:len(re.sub('[A-Za-z0-9\\s]+', '', x)))\n",
        "legal['numerics']=legal['tweet'].apply(lambda x: len([x for x in x.split() if x.isdigit()]))\n",
        "legal['upper']=legal['tweet'].apply(lambda x:len([x for x in x.split() if x.isupper()]))\n",
        "legal['lowercase']=legal['tweet'].apply(lambda x:\" \".join(x.lower() for x in x.split()))\n",
        "punc = '''!()-[]{};:'\"\\, <>./?@#$%^&*_~'''\n",
        "def remove_punc(text):\n",
        "  for ele in text:  \n",
        "    if ele in punc:  \n",
        "        text = text.replace(ele, \"\")\n",
        "\n",
        "legal['removepunctuation']=legal['lowercase'].apply(lambda x: re.sub(r'[^\\w\\s]','',x))\n",
        "\n",
        "stop=stopwords.words('english')\n",
        "legal['nostopwords']=legal['removepunctuation'].apply(lambda x: \" \".join(x for x in x.split() if x not in stop))\n",
        "\n",
        "freq=pd.Series(' '.join(legal['nostopwords']).split()).value_counts()[:20]\n",
        "freq=list(freq.index)\n",
        "legal['nocommonword']=legal['nostopwords'].apply(lambda x:\" \".join(x for x in x.split() if x not in freq))\n",
        "\n",
        "freq=pd.Series(' '.join(legal['nocommonword']).split()).value_counts()[-20:]\n",
        "freq=list(freq.index)\n",
        "legal['norarewords']=legal['nocommonword'].apply(lambda x: \" \".join(x for x in x.split() if x not in freq))\n",
        "\n",
        "legal['spelling']=legal['norarewords'].apply(lambda x: str(TextBlob(x).correct()))\n",
        "\n",
        "nltk.download('punkt')\n",
        "legal['tokenization']=legal['spelling'].apply(lambda x: str(TextBlob(x).words))\n",
        "st=PorterStemmer()\n",
        "legal['stemming']=legal['tokenization'].apply(lambda x: \" \".join([st.stem(word) for word in x.split()]))\n",
        "nltk.download('wordnet')\n",
        "legal['lemmatization']=legal['stemming'].apply(lambda x:\" \".join([Word(word).lemmatize() for word in x.split()]))\n",
        "pd.DataFrame(legal['lemmatization']).to_csv(\"/content/legalcase/result.csv\")\n",
        "\n",
        "print(legal[['tweet','word_count','char_count','average_word','stopwords','specialchars','numerics','upper','lowercase','removepunctuation','nostopwords','nocommonword','norarewords','spelling','tokenization','stemming','lemmatization']])"
      ],
      "execution_count": 174,
      "outputs": [
        {
          "output_type": "stream",
          "text": [
            "[nltk_data] Downloading package stopwords to /root/nltk_data...\n",
            "[nltk_data]   Package stopwords is already up-to-date!\n",
            "[nltk_data] Downloading package punkt to /root/nltk_data...\n",
            "[nltk_data]   Package punkt is already up-to-date!\n",
            "[nltk_data] Downloading package wordnet to /root/nltk_data...\n",
            "[nltk_data]   Package wordnet is already up-to-date!\n",
            "                                                 tweet  ...                                      lemmatization\n",
            "0                                           5 Ala. 740  ...                                       ['5', '740']\n",
            "1                            Supreme Court of Alabama.  ...                             ['supreme', 'alabama']\n",
            "2                                                ADAMS  ...                                          ['adams']\n",
            "3                                                   v.  ...                                                 []\n",
            "4                                   TANNER AND HORTON.  ...                               ['manner', 'norton']\n",
            "..                                                 ...  ...                                                ...\n",
            "143            There are no Filings for this citation.  ...                            ['filing', 'situation']\n",
            "144                                 Negative Treatment  ...                          ['negative', 'treatment']\n",
            "145  There are no Negative Treatment results for th...  ...  ['negative', 'treatment', 'results', 'situation']\n",
            "146                                            History  ...                                        ['history']\n",
            "147    There are no History results for this citation.  ...                ['history', 'results', 'situation']\n",
            "\n",
            "[148 rows x 17 columns]\n"
          ],
          "name": "stdout"
        }
      ]
    },
    {
      "cell_type": "markdown",
      "metadata": {
        "id": "BBiC4E_kefvV"
      },
      "source": [
        "# 2. Python Regular Expression"
      ]
    },
    {
      "cell_type": "markdown",
      "metadata": {
        "id": "Z1QJ-UwCenvN"
      },
      "source": [
        "## 2.1 Write a Python program to remove leading zeros from an IP address. (4 points)\n",
        "\n",
        "ip = \"260.08.094.109\""
      ]
    },
    {
      "cell_type": "code",
      "metadata": {
        "colab": {
          "base_uri": "https://localhost:8080/"
        },
        "id": "wSv6fVhOfFmv",
        "outputId": "96a39164-7d9d-40c9-e1d4-412f01942a32"
      },
      "source": [
        "# Write your code here\n",
        "def removezeros(ip):\n",
        "  new_ip = \".\".join([str(int(i)) for i in ip.split(\".\")])   \n",
        "  return new_ip ;\n",
        "ip=\"260.08.094.109\"\n",
        "print(removezeros(ip))\n",
        "\n",
        "\n",
        "\n",
        "\n"
      ],
      "execution_count": 13,
      "outputs": [
        {
          "output_type": "stream",
          "text": [
            "260.8.94.109\n"
          ],
          "name": "stdout"
        }
      ]
    },
    {
      "cell_type": "markdown",
      "metadata": {
        "id": "PXRjaHzrfKAy"
      },
      "source": [
        "## 2.2 Write a Python Program to extract all the years from the following sentence. (4 points)\n",
        "\n",
        "sentence = \"The 2010s were a dramatic decade, filled with ups and downs, more than 1000 stroies have happened. As the decade comes to a close, Insider took a look back at some of the biggest headline-grabbing stories, from 2010 to 2019. The result was 119 news stories that ranged from the heartwarming rescue of a Thai boys' soccer team from a flooded cave to the divisive election of President Donald Trump.\""
      ]
    },
    {
      "cell_type": "code",
      "metadata": {
        "colab": {
          "base_uri": "https://localhost:8080/"
        },
        "id": "7xdJpDx9gjbX",
        "outputId": "fee43b22-97ec-438b-c559-a8c55bf84752"
      },
      "source": [
        "# Write your code here\r\n",
        "#!pip install date_extractor\r\n",
        "import re\r\n",
        "import numpy as np\r\n",
        "from date_extractor import extract_dates\r\n",
        "import datefinder\r\n",
        "text=\"The 2010s were a dramatic decade, filled with ups and downs, more than 1000 stroies have happened. As the decade comes to a close, Insider took a look back at some of the biggest headline-grabbing stories, from 2010 to 2019. The result was 119 news stories that ranged from the heartwarming rescue of a Thai boys' soccer team from a flooded cave to the divisive election of President Donald Trump.\"\r\n",
        "sentence=list(extract_dates(text))\r\n",
        "for s in sentence:\r\n",
        "  print(s.year)\r\n",
        "\r\n"
      ],
      "execution_count": 178,
      "outputs": [
        {
          "output_type": "stream",
          "text": [
            "2010\n",
            "2010\n",
            "2019\n"
          ],
          "name": "stdout"
        }
      ]
    }
  ]
}