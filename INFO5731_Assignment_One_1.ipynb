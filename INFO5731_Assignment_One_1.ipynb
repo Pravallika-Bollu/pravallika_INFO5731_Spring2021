{
  "nbformat": 4,
  "nbformat_minor": 0,
  "metadata": {
    "colab": {
      "name": "INFO5731_Assignment_One-1.ipynb",
      "provenance": [],
      "collapsed_sections": [],
      "include_colab_link": true
    },
    "kernelspec": {
      "display_name": "Python 3",
      "language": "python",
      "name": "python3"
    },
    "language_info": {
      "codemirror_mode": {
        "name": "ipython",
        "version": 3
      },
      "file_extension": ".py",
      "mimetype": "text/x-python",
      "name": "python",
      "nbconvert_exporter": "python",
      "pygments_lexer": "ipython3",
      "version": "3.7.4"
    }
  },
  "cells": [
    {
      "cell_type": "markdown",
      "metadata": {
        "id": "view-in-github",
        "colab_type": "text"
      },
      "source": [
        "<a href=\"https://colab.research.google.com/github/Pravallika-Bollu/pravallika_INFO5731_Spring2021/blob/main/INFO5731_Assignment_One_1.ipynb\" target=\"_parent\"><img src=\"https://colab.research.google.com/assets/colab-badge.svg\" alt=\"Open In Colab\"/></a>"
      ]
    },
    {
      "cell_type": "markdown",
      "metadata": {
        "id": "Ryk8D1Q4Wsrp"
      },
      "source": [
        "# **INFO5731 Assignment One**"
      ]
    },
    {
      "cell_type": "markdown",
      "metadata": {
        "id": "90_NR8c5XGWc"
      },
      "source": [
        "# Question 1\n",
        "\n",
        "(20 points). Write a Python program to generate 12 random numbers between 1 and 100. Sort the list of numbers in ascending order and print it out. Sort the list of numbers in descending order and print it out. Calculate the average for the group and print it out."
      ]
    },
    {
      "cell_type": "markdown",
      "metadata": {
        "id": "NTq45up98Fji"
      },
      "source": [
        ""
      ]
    },
    {
      "cell_type": "code",
      "metadata": {
        "colab": {
          "base_uri": "https://localhost:8080/"
        },
        "id": "5QX6bJjGWXY9",
        "outputId": "3093ede4-5cac-4777-ca3d-7e809d9d67f1"
      },
      "source": [
        "# Your code here\n",
        "import random\n",
        "a=[]\n",
        "b=[]\n",
        "sum_num=0\n",
        "\n",
        "for x in range(12):\n",
        "  a=random.randint(1,100)\n",
        "  #print(a)\n",
        "  b.append(a)\n",
        "print(\"Random Numbers:\",b)\n",
        "b.sort()\n",
        "print(\"Ascending Order:\",b)\n",
        "b.sort(reverse = True)\n",
        "print(\"Descending Order:\",b)\n",
        "for j in b:\n",
        "  sum_num=sum_num+j\n",
        "print(\"Average:\",sum_num/12)\n",
        "\n",
        "\n",
        "\n",
        "\n",
        "\n",
        "\n"
      ],
      "execution_count": 149,
      "outputs": [
        {
          "output_type": "stream",
          "text": [
            "Random Numbers: [65, 12, 55, 33, 75, 21, 63, 20, 44, 20, 100, 61]\n",
            "Ascending Order: [12, 20, 20, 21, 33, 44, 55, 61, 63, 65, 75, 100]\n",
            "Descending Order: [100, 75, 65, 63, 61, 55, 44, 33, 21, 20, 20, 12]\n",
            "Average: 47.416666666666664\n"
          ],
          "name": "stdout"
        }
      ]
    },
    {
      "cell_type": "markdown",
      "metadata": {
        "id": "1F_PZdH9Sh49"
      },
      "source": [
        "# Question 2\n",
        "(25 points). Write a program that will do the following string formatting tasks:\n",
        "\n",
        "(1) Ask the user to enter two sentences.\n",
        "\n",
        "(2) Make each sentence into a list. Each element in the list should correspond to a word in the sentence. For example, if the sentence is \"Alas! Am I alive? This is my first python program\", the program should print out ['Alas, '!', 'Am', 'I', 'alive, '?', 'This', 'is', 'my', 'first', 'python', 'program'].\n",
        "\n",
        "(3) Compare the two sentences. Print out a list of words that occur in both sentences.\n",
        "\n",
        "(4) Remove any punctuation from the sentence and print it back out. It should remove at least the following characters, but it can remove more: period(“.”), comma (“,”), semicolon (“;”), and colon (“:”)\n",
        "\n",
        "(5) Count the number of vowels in the sentences. Print out each vowel and the number of times it appears in the sentences, such as: a:2, e:1, i:0, etc"
      ]
    },
    {
      "cell_type": "code",
      "metadata": {
        "colab": {
          "base_uri": "https://localhost:8080/"
        },
        "id": "Y0oOSlsOS0cq",
        "outputId": "6238ecf5-799c-441c-e011-345bdbc443d1"
      },
      "source": [
        "# Your code here\n",
        "import re\n",
        "vowels='A,a,E,e,I,i,O,o,U,u'\n",
        "count=0\n",
        "Text1=input(\"Enter First Sentence:\")\n",
        "Text2=input(\"Enter Second Sentence:\")\n",
        "#print(Text1)\n",
        "#print(Text2)\n",
        "print(\"First sentence:\",re.findall(r\"[\\w']+|[.,!?;]\",Text1))\n",
        "print(\"Second sentence:\",re.findall(r\"[\\w']+|[.,!?;]\",Text2))\n",
        "\n",
        "x=Text1.split()\n",
        "y=Text2.split()\n",
        "\n",
        "for word1 in x:\n",
        "  for word2 in y:\n",
        "    if word1==word2:\n",
        "      print(\"Repeated words are:\",word1)\n",
        "Text1_without_punctuation=re.sub(r'[^\\w\\s]','',Text1)\n",
        "Text2_without_punctuation=re.sub(r'[^\\w\\s]','',Text2)\n",
        "print(\"First Sentence without punctuation:\",Text1_without_punctuation)\n",
        "print(\"Second Sentence without punctuation:\",Text2_without_punctuation)\n",
        "\n",
        "case1=Text1_without_punctuation.lower()\n",
        "case2=Text2_without_punctuation.lower()\n",
        "vowel_count={}\n",
        "for letter in\"aeiou\":\n",
        "  count=case1.count(letter)\n",
        "  vowel_count[letter]=count\n",
        "print(\"vowels in sentence1:\",vowel_count)\n",
        "for letter in\"aeiou\":\n",
        "  count=case2.count(letter)\n",
        "  vowel_count[letter]=count\n",
        "print(\"vowels in sentence2:\",vowel_count)\n",
        "\n",
        "\n",
        "\n",
        "\n",
        "\n"
      ],
      "execution_count": 216,
      "outputs": [
        {
          "output_type": "stream",
          "text": [
            "Enter First Sentence:hi how?\n",
            "Enter Second Sentence:how are you,\n",
            "First sentence: ['hi', 'how', '?']\n",
            "Second sentence: ['how', 'are', 'you', ',']\n",
            "First Sentence without punctuation: hi how\n",
            "Second Sentence without punctuation: how are you\n",
            "vowels in sentence1: {'a': 0, 'e': 0, 'i': 1, 'o': 1, 'u': 0}\n",
            "vowels in sentence2: {'a': 1, 'e': 1, 'i': 0, 'o': 2, 'u': 1}\n"
          ],
          "name": "stdout"
        }
      ]
    },
    {
      "cell_type": "markdown",
      "metadata": {
        "id": "CmFoI4jDS9nx"
      },
      "source": [
        "# Question 3 \n",
        "\n",
        "(15 points). The formula that describes the volume V of a sphere with radius r is the following:\n",
        "\n",
        "$ V=\\frac{4}{3}\\ast\\ \\pi\\ast\\ r^3 $\n",
        "\n",
        "Write a program to calculate the value of V when r is in the range of 1–10. Output the result in the following format:\n",
        "\n",
        "\tr\tV\n",
        "\t1\t…\n",
        "\t2\t…\n",
        "\t3\t…\n"
      ]
    },
    {
      "cell_type": "code",
      "metadata": {
        "colab": {
          "base_uri": "https://localhost:8080/"
        },
        "id": "pEyqeioAT95b",
        "outputId": "978cfada-06ff-4177-9c00-873aac56d60b"
      },
      "source": [
        "# Your code here\n",
        "PI= 3.14\n",
        "print(\"r\",\" \",\"v\")\n",
        "for r in range(1,11,1):\n",
        "  #r=int(input(range)\n",
        "  volume=(4/3)*PI*r*r*r\n",
        "  print(r,\" \",volume)\n",
        "\n",
        "\n"
      ],
      "execution_count": 133,
      "outputs": [
        {
          "output_type": "stream",
          "text": [
            "r   v\n",
            "1   4.1866666666666665\n",
            "2   33.49333333333333\n",
            "3   113.03999999999998\n",
            "4   267.94666666666666\n",
            "5   523.3333333333334\n",
            "6   904.3199999999998\n",
            "7   1436.0266666666666\n",
            "8   2143.5733333333333\n",
            "9   3052.08\n",
            "10   4186.666666666667\n"
          ],
          "name": "stdout"
        }
      ]
    },
    {
      "cell_type": "code",
      "metadata": {
        "id": "pMCr3l8tnu0j"
      },
      "source": [
        ""
      ],
      "execution_count": null,
      "outputs": []
    },
    {
      "cell_type": "markdown",
      "metadata": {
        "id": "z3tBE7E-Xn5X"
      },
      "source": [
        "# Question 4\n",
        "\n",
        "(40 points). In the field of Data Science, data is often formatted as a comma-delimited (CSV) file, where each line in a file corresponds to a field's value. Refer to Chapter 9 (p. 106) for more information on comma-delimited files. To answer this question, you will need to download the file [Assignment1_denton_housing.csv](https://github.com/unt-iialab/info5731_spring2021/blob/main/assignment/Assignment1_denton_housing.csv) included with this assignment. The file [Assignment1_denton_housing.csv](https://github.com/unt-iialab/info5731_spring2021/blob/main/assignment/Assignment1_denton_housing.csv) contains statistics about housing in the city of Denton from 2008 to 2014. Write a program to implement the following questions.\n",
        "\n",
        "(1) (10 pts) Calculate the difference in the number of Occupied Housing Units from year to year and print it. The difference must be calculated for the consecutive years such as 2008-2009, 2009-2010 etc. Finally, print the values in the ascending order.\n",
        "\n",
        "(2) (10 pts) For all the years, calculate the percentage of housing units which are vacant an occupied. Print the results in the following format:\n",
        "\n",
        "Year Vacant Housing Units Occupied Housing Units\n",
        "\n",
        "    2008  30%   70%                          \n",
        "\t2009 ----- -----\n",
        "\t2010 ----- -----\n",
        "    2011 ----- -----\n",
        "\t2012 ----- -----\n",
        "    2013 ----- -----\n",
        "\t2014 ----- -----\n",
        "  \n",
        "  \n",
        "\n",
        "(3) (10 pts) Calculate and print the valued and years in which the highest number of housing units were vacant and occupied. Print the results in the following format:  \n",
        "\n",
        "                              Year\tValue\n",
        "\tVacant Housing Units\t  -----   -----\n",
        "\tOccupied Housing Units\t-----   -----\n",
        "\n",
        "(4) (10 pts) Calculate the harmonic mean of the total housing units and print it out. You can find the information about harmonic mean here: https://ncalculators.com/statistics/harmonic-mean-calculator.htm"
      ]
    },
    {
      "cell_type": "code",
      "metadata": {
        "colab": {
          "base_uri": "https://localhost:8080/"
        },
        "id": "lqGYuHBhcsRH",
        "outputId": "82e68839-9477-454b-b4d9-e2f4522e087d"
      },
      "source": [
        "# Your code here\n",
        "import csv\n",
        "import pandas as pd\n",
        "import numpy as np\n",
        "from scipy import stats\n",
        "\n",
        "url = 'https://raw.githubusercontent.com/unt-iialab/info5731_spring2021/main/assignment/Assignment1_denton_housing.csv'\n",
        "Info = pd.read_csv(url, index_col=0)\n",
        "\n",
        "B = Info.loc[(Info[\"title_field\"]==\"Occupied Housing Units\") , [\"title_field\", 'value']]\n",
        "\n",
        "Info_2 = [['2008-2009', 35916-36711],['2009-2010', 41007-35916],['2010-2011', 40704-41007],['2011-2012', 42108-40704],['2012-2013', 43673-42108],['2013-2014', 46295-43673]]  \n",
        "C = pd.DataFrame(Info_2, columns = ['Years', 'Difference'])\n",
        "sort_by_difference= C.sort_values('Difference') \n",
        "print(sort_by_difference)\n",
        "count=0\n",
        "with open('Denton_housing.csv','r') as Formattedfile:\n",
        "  FormattedfileReader=csv.reader(Formattedfile)\n",
        "  for f in FormattedfileReader:\n",
        "    count=count+1\n",
        "    if count==21:\n",
        "      print(f)\n",
        "    if count==4:\n",
        "      print(f)\n",
        "\n"
      ],
      "execution_count": 224,
      "outputs": [
        {
          "output_type": "stream",
          "text": [
            "       Years  Difference\n",
            "0  2008-2009        -795\n",
            "2  2010-2011        -303\n",
            "3  2011-2012        1404\n",
            "4  2012-2013        1565\n",
            "5  2013-2014        2622\n",
            "1  2009-2010        5091\n",
            "['2014', 'Occupied Housing Units', '46295']\n",
            "['2008', 'Vacant Housing Units', '4483']\n"
          ],
          "name": "stdout"
        }
      ]
    }
  ]
}