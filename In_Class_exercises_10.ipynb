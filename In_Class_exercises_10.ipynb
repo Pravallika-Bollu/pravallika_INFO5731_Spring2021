{
  "nbformat": 4,
  "nbformat_minor": 0,
  "metadata": {
    "colab": {
      "name": "In_Class_exercises-10.ipynb",
      "provenance": [],
      "include_colab_link": true
    },
    "kernelspec": {
      "display_name": "Python 3",
      "language": "python",
      "name": "python3"
    },
    "language_info": {
      "codemirror_mode": {
        "name": "ipython",
        "version": 3
      },
      "file_extension": ".py",
      "mimetype": "text/x-python",
      "name": "python",
      "nbconvert_exporter": "python",
      "pygments_lexer": "ipython3",
      "version": "3.8.5"
    }
  },
  "cells": [
    {
      "cell_type": "markdown",
      "metadata": {
        "id": "view-in-github",
        "colab_type": "text"
      },
      "source": [
        "<a href=\"https://colab.research.google.com/github/Pravallika-Bollu/pravallika_INFO5731_Spring2021/blob/main/In_Class_exercises_10.ipynb\" target=\"_parent\"><img src=\"https://colab.research.google.com/assets/colab-badge.svg\" alt=\"Open In Colab\"/></a>"
      ]
    },
    {
      "cell_type": "markdown",
      "metadata": {
        "id": "JVrANZ08b14X"
      },
      "source": [
        "# In class exercise 10 (20 points in total, 4/16/2021)"
      ]
    },
    {
      "cell_type": "markdown",
      "metadata": {
        "id": "9HwM3Ljrb14a"
      },
      "source": [
        "The purpose of the exercise is to practice different machine learning algorithms for text clustering\n",
        "Please downlad the dataset by using the following link.  https://www.kaggle.com/PromptCloudHQ/amazon-reviews-unlocked-mobile-phones\n",
        "(You can also use different text data which you want)\n",
        "\n",
        "Apply the listed clustering methods to the dataset:\n",
        "\n",
        "K means, \n",
        "DBSCAN,\n",
        "Hierarchical clustering. \n",
        "\n",
        "You can refer to of the codes from  the follwing link below. \n",
        "https://www.kaggle.com/karthik3890/text-clustering \n",
        "    "
      ]
    },
    {
      "cell_type": "code",
      "metadata": {
        "colab": {
          "base_uri": "https://localhost:8080/",
          "height": 691
        },
        "id": "T2YfRLHbb14d",
        "outputId": "03ee67c7-3b6f-4017-a56a-1dfcaa2bf009"
      },
      "source": [
        "#Write your code here.\n",
        "from nltk.corpus import stopwords\n",
        "from nltk.tokenize import word_tokenize  \n",
        "import pandas as pd\n",
        "from textblob import Word\n",
        "import numpy as np \n",
        "import matplotlib.pyplot as plt\n",
        "import re\n",
        "import nltk\n",
        "nltk.download('stopwords')\n",
        "nltk.download('punkt')\n",
        "nltk.download('wordnet')\n",
        "stop_words=stopwords.words(\"english\")\n",
        "clean_text_review=[]\n",
        "clean_text=[]\n",
        "df=pd.read_csv(\"/content/Amazon_Unlocked_Mobile.csv\")\n",
        "df=df.dropna() \n",
        "input_df=df.sample(n = 25000)\n",
        "input_df['cleaned text'] = input_df['Reviews'].str.replace(r\"\\W\", \" \").str.strip()\n",
        "input_df['cleaned text'] = input_df['cleaned text'].str.replace(r'\\d+',\"\") \n",
        "input_df['cleaned text'] = input_df['cleaned text'].apply(lambda x: \" \".join(x.lower() for x in x.split()))\n",
        "input_df['cleaned text'] = input_df['cleaned text'].apply(lambda x: \" \".join(x for x in x.split() if x not in stop_words)) \n",
        "input_df['cleaned text'] = input_df['cleaned text'].apply(lambda x: \" \".join([Word(word).lemmatize() for word in x.split()])) \n",
        "input_df['cleaned text']\n",
        "input_df"
      ],
      "execution_count": 6,
      "outputs": [
        {
          "output_type": "stream",
          "text": [
            "[nltk_data] Downloading package stopwords to /root/nltk_data...\n",
            "[nltk_data]   Package stopwords is already up-to-date!\n",
            "[nltk_data] Downloading package punkt to /root/nltk_data...\n",
            "[nltk_data]   Package punkt is already up-to-date!\n",
            "[nltk_data] Downloading package wordnet to /root/nltk_data...\n",
            "[nltk_data]   Package wordnet is already up-to-date!\n"
          ],
          "name": "stdout"
        },
        {
          "output_type": "execute_result",
          "data": {
            "text/html": [
              "<div>\n",
              "<style scoped>\n",
              "    .dataframe tbody tr th:only-of-type {\n",
              "        vertical-align: middle;\n",
              "    }\n",
              "\n",
              "    .dataframe tbody tr th {\n",
              "        vertical-align: top;\n",
              "    }\n",
              "\n",
              "    .dataframe thead th {\n",
              "        text-align: right;\n",
              "    }\n",
              "</style>\n",
              "<table border=\"1\" class=\"dataframe\">\n",
              "  <thead>\n",
              "    <tr style=\"text-align: right;\">\n",
              "      <th></th>\n",
              "      <th>Product Name</th>\n",
              "      <th>Brand Name</th>\n",
              "      <th>Price</th>\n",
              "      <th>Rating</th>\n",
              "      <th>Reviews</th>\n",
              "      <th>Review Votes</th>\n",
              "      <th>cleaned text</th>\n",
              "    </tr>\n",
              "  </thead>\n",
              "  <tbody>\n",
              "    <tr>\n",
              "      <th>143164</th>\n",
              "      <td>BLU Studio 7.0 II -Unlocked Smartphone - US GS...</td>\n",
              "      <td>BLU</td>\n",
              "      <td>95.88</td>\n",
              "      <td>5.0</td>\n",
              "      <td>I really like the phone, the only thing is it ...</td>\n",
              "      <td>0.0</td>\n",
              "      <td>really like phone thing said dual sim took cel...</td>\n",
              "    </tr>\n",
              "    <tr>\n",
              "      <th>157727</th>\n",
              "      <td>BLU Tank II T193 Unlocked GSM Dual-SIM Cell Ph...</td>\n",
              "      <td>BLU</td>\n",
              "      <td>18.93</td>\n",
              "      <td>5.0</td>\n",
              "      <td>excelente</td>\n",
              "      <td>0.0</td>\n",
              "      <td>excelente</td>\n",
              "    </tr>\n",
              "    <tr>\n",
              "      <th>153029</th>\n",
              "      <td>BLU Studio M HD - 5.0\" Smartphone -Global GSM ...</td>\n",
              "      <td>BLU</td>\n",
              "      <td>489.00</td>\n",
              "      <td>4.0</td>\n",
              "      <td>Not too bad for the price!</td>\n",
              "      <td>0.0</td>\n",
              "      <td>bad price</td>\n",
              "    </tr>\n",
              "    <tr>\n",
              "      <th>222060</th>\n",
              "      <td>LG G3 D858 32GB White DUAL SIM GSM Factory Unl...</td>\n",
              "      <td>LG</td>\n",
              "      <td>259.98</td>\n",
              "      <td>5.0</td>\n",
              "      <td>5 stars!</td>\n",
              "      <td>1.0</td>\n",
              "      <td>star</td>\n",
              "    </tr>\n",
              "    <tr>\n",
              "      <th>214413</th>\n",
              "      <td>Lg G Pro Lite Dual D686 Black (Factory Unlocke...</td>\n",
              "      <td>LG</td>\n",
              "      <td>199.00</td>\n",
              "      <td>2.0</td>\n",
              "      <td>This Phone was really a bad experience for me....</td>\n",
              "      <td>10.0</td>\n",
              "      <td>phone really bad experience always ordered cel...</td>\n",
              "    </tr>\n",
              "    <tr>\n",
              "      <th>...</th>\n",
              "      <td>...</td>\n",
              "      <td>...</td>\n",
              "      <td>...</td>\n",
              "      <td>...</td>\n",
              "      <td>...</td>\n",
              "      <td>...</td>\n",
              "      <td>...</td>\n",
              "    </tr>\n",
              "    <tr>\n",
              "      <th>109739</th>\n",
              "      <td>BLU Dash JR 4.0 K Smartphone - Unlocked - Blue</td>\n",
              "      <td>BLU</td>\n",
              "      <td>99.99</td>\n",
              "      <td>1.0</td>\n",
              "      <td>Phone would not update - said no SD and would ...</td>\n",
              "      <td>0.0</td>\n",
              "      <td>phone would update said sd would download one ...</td>\n",
              "    </tr>\n",
              "    <tr>\n",
              "      <th>245924</th>\n",
              "      <td>Motorola Atrix MB860 4G Unlocked Dual Core Pho...</td>\n",
              "      <td>Motorola</td>\n",
              "      <td>98.40</td>\n",
              "      <td>1.0</td>\n",
              "      <td>some parts of the screen do not work, the flas...</td>\n",
              "      <td>1.0</td>\n",
              "      <td>part screen work flash camera either dont reco...</td>\n",
              "    </tr>\n",
              "    <tr>\n",
              "      <th>266779</th>\n",
              "      <td>Nokia Lumia 1020 32GB Unlocked GSM Phone w/ 41...</td>\n",
              "      <td>Nokia</td>\n",
              "      <td>296.00</td>\n",
              "      <td>5.0</td>\n",
              "      <td>Very good. Value for money.</td>\n",
              "      <td>0.0</td>\n",
              "      <td>good value money</td>\n",
              "    </tr>\n",
              "    <tr>\n",
              "      <th>49874</th>\n",
              "      <td>Apple iPhone 5s AT&amp;T Cellphone, 16GB, Silver</td>\n",
              "      <td>Apple</td>\n",
              "      <td>139.95</td>\n",
              "      <td>5.0</td>\n",
              "      <td>Sweeeeeeeet</td>\n",
              "      <td>0.0</td>\n",
              "      <td>sweeeeeeeet</td>\n",
              "    </tr>\n",
              "    <tr>\n",
              "      <th>265148</th>\n",
              "      <td>Nokia E7-00 Unlocked GSM Phone with Touchscree...</td>\n",
              "      <td>Nokia</td>\n",
              "      <td>49.99</td>\n",
              "      <td>4.0</td>\n",
              "      <td>This product looks good and solid. I always li...</td>\n",
              "      <td>0.0</td>\n",
              "      <td>product look good solid always like nokia prod...</td>\n",
              "    </tr>\n",
              "  </tbody>\n",
              "</table>\n",
              "<p>25000 rows × 7 columns</p>\n",
              "</div>"
            ],
            "text/plain": [
              "                                             Product Name  ...                                       cleaned text\n",
              "143164  BLU Studio 7.0 II -Unlocked Smartphone - US GS...  ...  really like phone thing said dual sim took cel...\n",
              "157727  BLU Tank II T193 Unlocked GSM Dual-SIM Cell Ph...  ...                                          excelente\n",
              "153029  BLU Studio M HD - 5.0\" Smartphone -Global GSM ...  ...                                          bad price\n",
              "222060  LG G3 D858 32GB White DUAL SIM GSM Factory Unl...  ...                                               star\n",
              "214413  Lg G Pro Lite Dual D686 Black (Factory Unlocke...  ...  phone really bad experience always ordered cel...\n",
              "...                                                   ...  ...                                                ...\n",
              "109739     BLU Dash JR 4.0 K Smartphone - Unlocked - Blue  ...  phone would update said sd would download one ...\n",
              "245924  Motorola Atrix MB860 4G Unlocked Dual Core Pho...  ...  part screen work flash camera either dont reco...\n",
              "266779  Nokia Lumia 1020 32GB Unlocked GSM Phone w/ 41...  ...                                   good value money\n",
              "49874        Apple iPhone 5s AT&T Cellphone, 16GB, Silver  ...                                        sweeeeeeeet\n",
              "265148  Nokia E7-00 Unlocked GSM Phone with Touchscree...  ...  product look good solid always like nokia prod...\n",
              "\n",
              "[25000 rows x 7 columns]"
            ]
          },
          "metadata": {
            "tags": []
          },
          "execution_count": 6
        }
      ]
    },
    {
      "cell_type": "code",
      "metadata": {
        "id": "HULp3kCEfV78"
      },
      "source": [
        "from sklearn.feature_extraction.text import TfidfVectorizer\n",
        "vectorizer = TfidfVectorizer()\n",
        "tfidf_vectors = vectorizer.fit_transform(input_df['cleaned text'].values)\n"
      ],
      "execution_count": 7,
      "outputs": []
    },
    {
      "cell_type": "code",
      "metadata": {
        "colab": {
          "base_uri": "https://localhost:8080/",
          "height": 329
        },
        "id": "9Ttqo98rkB_Y",
        "outputId": "bc0096f4-1c8d-4b03-a935-574bd2561b56"
      },
      "source": [
        "from sklearn.cluster import KMeans\n",
        "number_of_clusters = [x for x in range(3, 10)]\n",
        "squared_errors = []\n",
        "for cluster in number_of_clusters:\n",
        "    kmeans = KMeans(n_clusters = cluster).fit(tfidf_vectors)\n",
        "    squared_errors.append(kmeans.inertia_)\n",
        "optimal_clusters = np.argmin(squared_errors) + 2 \n",
        "plt.plot(number_of_clusters, squared_errors)\n",
        "plt.title(\"Elbow Curve to find the no. of clusters.\")\n",
        "plt.xlabel(\"Number of clusters.\")\n",
        "plt.ylabel(\"Squared Loss.\")\n",
        "xy = (optimal_clusters, min(squared_errors))\n",
        "plt.annotate('(%s, %s)' % xy, xy = xy, textcoords='data')\n",
        "plt.show()\n",
        "print (\"The optimal number of clusters obtained is - \", optimal_clusters)\n",
        "print (\"The loss for optimal cluster is - \", min(squared_errors))\n"
      ],
      "execution_count": 8,
      "outputs": [
        {
          "output_type": "display_data",
          "data": {
            "image/png": "[encoded data removed]",
            "text/plain": [
              "<Figure size 432x288 with 1 Axes>"
            ]
          },
          "metadata": {
            "tags": [],
            "needs_background": "light"
          }
        },
        {
          "output_type": "stream",
          "text": [
            "The optimal number of clusters obtained is -  8\n",
            "The loss for optimal cluster is -  21738.989929146002\n"
          ],
          "name": "stdout"
        }
      ]
    },
    {
      "cell_type": "code",
      "metadata": {
        "colab": {
          "base_uri": "https://localhost:8080/",
          "height": 1000
        },
        "id": "7CX2leFSsSZX",
        "outputId": "b856cc86-b8b3-467c-c456-64e2ad2c1333"
      },
      "source": [
        "\n",
        "optimal_k = 8\n",
        "model = KMeans(n_clusters = optimal_k)\n",
        "model.fit(tfidf_vectors)\n",
        "model_labels = model.labels_\n",
        "cluster_centers = model.cluster_centers_\n",
        "terms = vectorizer.get_feature_names()\n",
        "from sklearn import metrics\n",
        "silhouette_score = metrics.silhouette_score(tfidf_vectors, model_labels, metric='euclidean')\n",
        "print('Silhouette Score: ', silhouette_score)\n",
        "input_df['Kmeans_Cluster Labels'] = model_labels\n",
        "print(input_df.groupby(['Kmeans_Cluster Labels'])['Reviews'].count())\n",
        "print(\"Top terms per cluster:\")\n",
        "order_centroids = model.cluster_centers_.argsort()[:, ::-1]\n",
        "for i in range(optimal_k):\n",
        "    print(\"Cluster %d:\" % i, end='')\n",
        "    for ind in order_centroids[i, :optimal_k]:\n",
        "        print(' %s' % terms[ind], end='')\n",
        "        print()\n",
        "plt.bar([x for x in range(optimal_k)], input_df.groupby(['Kmeans_Cluster Labels'])['Reviews'].count(),alpha = 0.4)\n",
        "plt.title('KMeans cluster points')\n",
        "plt.xlabel(\"Cluster number\")\n",
        "plt.ylabel(\"Number of points\")\n",
        "plt.show()\n"
      ],
      "execution_count": 18,
      "outputs": [
        {
          "output_type": "stream",
          "text": [
            "Silhouette Score:  0.04422432571618992\n",
            "Kmeans_Cluster Labels\n",
            "0     1074\n",
            "1    10110\n",
            "2     1029\n",
            "3      646\n",
            "4    10695\n",
            "5      682\n",
            "6      392\n",
            "7      372\n",
            "Name: Reviews, dtype: int64\n",
            "Top terms per cluster:\n",
            "Cluster 0: great\n",
            " phone\n",
            " work\n",
            " product\n",
            " price\n",
            " condition\n",
            " good\n",
            " fast\n",
            "Cluster 1: excelente\n",
            " work\n",
            " product\n",
            " good\n",
            " ok\n",
            " like\n",
            " excelent\n",
            " great\n",
            "Cluster 2: good\n",
            " phone\n",
            " product\n",
            " price\n",
            " far\n",
            " thanks\n",
            " work\n",
            " everything\n",
            "Cluster 3: love\n",
            " phone\n",
            " great\n",
            " daughter\n",
            " wife\n",
            " new\n",
            " thanks\n",
            " son\n",
            "Cluster 4: phone\n",
            " great\n",
            " good\n",
            " work\n",
            " one\n",
            " battery\n",
            " like\n",
            " screen\n",
            "Cluster 5: excellent\n",
            " product\n",
            " phone\n",
            " seller\n",
            " price\n",
            " recommend\n",
            " condition\n",
            " good\n",
            "Cluster 6: perfect\n",
            " condition\n",
            " work\n",
            " phone\n",
            " everything\n",
            " new\n",
            " thanks\n",
            " love\n",
            "Cluster 7: nice\n",
            " phone\n",
            " price\n",
            " good\n",
            " product\n",
            " cellphone\n",
            " love\n",
            " watch\n"
          ],
          "name": "stdout"
        },
        {
          "output_type": "display_data",
          "data": {
            "image/png": "[encoded data removed]",
            "text/plain": [
              "<Figure size 432x288 with 1 Axes>"
            ]
          },
          "metadata": {
            "tags": [],
            "needs_background": "light"
          }
        }
      ]
    },
    {
      "cell_type": "code",
      "metadata": {
        "id": "2AcbUx1O3vjx"
      },
      "source": [
        "import gensim\n",
        "import numpy as np\n",
        "from sklearn.cluster import DBSCAN\n",
        "minPts = 2 * 100\n",
        "def lower_bound(nums, target):\n",
        "    l, r = 0, len(nums) - 1\n",
        "    while l <= r:\n",
        "        mid = int(l + (r - l) / 2)\n",
        "        if nums[mid] >= target:\n",
        "            r = mid - 1\n",
        "        else:\n",
        "            l = mid + 1\n",
        "    return l\n",
        "def compute200thnearestneighbour(x, data): \n",
        "    dists = []\n",
        "    for val in data:\n",
        "        dist = np.sum((x - val) **2 ) \n",
        "        if(len(dists) == 200 and dists[199] > dist):\n",
        "            l = int(lower_bound(dists, dist))\n",
        "            if l < 200 and l >= 0 and dists[l] > dist:\n",
        "                dists[l] = dist\n",
        "        else:\n",
        "            dists.append(dist)\n",
        "            dists.sort()\n",
        "    return dists[199]\n"
      ],
      "execution_count": 10,
      "outputs": []
    },
    {
      "cell_type": "code",
      "metadata": {
        "colab": {
          "base_uri": "https://localhost:8080/"
        },
        "id": "lAJik0HE6Szh",
        "outputId": "1d4d7bca-4fc8-43c0-84ff-5ce35622c9d1"
      },
      "source": [
        "review_list= []\n",
        "for review in input_df['cleaned text'].values:\n",
        "    review_list.append(review.split())\n",
        "\n",
        "w2v_model=gensim.models.Word2Vec(review_list,size=100, workers=4)\n",
        "review_vectors = []; \n",
        "for review in review_list: \n",
        "    review_vec = np.zeros(100) \n",
        "    cnt_words =0; \n",
        "    for word in review:\n",
        "        try:\n",
        "            vec = w2v_model.wv[word]\n",
        "            review_vec += vec\n",
        "            cnt_words += 1\n",
        "        except:\n",
        "            pass\n",
        "    review_vec /= cnt_words\n",
        "    review_vectors.append(review_vec)\n",
        "review_vectors = np.array(review_vectors)\n",
        "review_vectors = np.nan_to_num(review_vectors)\n",
        "review_vectors.shape\n"
      ],
      "execution_count": 12,
      "outputs": [
        {
          "output_type": "stream",
          "text": [
            "/usr/local/lib/python3.7/dist-packages/ipykernel_launcher.py:17: RuntimeWarning: invalid value encountered in true_divide\n"
          ],
          "name": "stderr"
        },
        {
          "output_type": "execute_result",
          "data": {
            "text/plain": [
              "(25000, 100)"
            ]
          },
          "metadata": {
            "tags": []
          },
          "execution_count": 12
        }
      ]
    },
    {
      "cell_type": "code",
      "metadata": {
        "colab": {
          "base_uri": "https://localhost:8080/",
          "height": 295
        },
        "id": "NEKZ_Xhl7bri",
        "outputId": "a34daaed-6ad3-478c-cd0b-8bec9ec94646"
      },
      "source": [
        "twohundrethneigh = []\n",
        "for val in review_vectors[:1500]:\n",
        "    twohundrethneigh.append( compute200thnearestneighbour(val, review_vectors[:1500]) )\n",
        "twohundrethneigh.sort()\n",
        "plt.figure(figsize=(14,4))\n",
        "plt.title(\"Elbow Method for Finding the right Eps hyperparameter\")\n",
        "plt.plot([x for x in range(len(twohundrethneigh))], twohundrethneigh)\n",
        "plt.xlabel(\"Number of points\")\n",
        "plt.ylabel(\"Distance of 200th Nearest Neighbour\")\n",
        "plt.show()\n"
      ],
      "execution_count": 13,
      "outputs": [
        {
          "output_type": "display_data",
          "data": {
            "image/png": "[encoded data removed]",
            "text/plain": [
              "<Figure size 1008x288 with 1 Axes>"
            ]
          },
          "metadata": {
            "tags": [],
            "needs_background": "light"
          }
        }
      ]
    },
    {
      "cell_type": "code",
      "metadata": {
        "colab": {
          "base_uri": "https://localhost:8080/"
        },
        "id": "IsIFw3fQ8QFJ",
        "outputId": "89e65371-de6d-4f54-fe69-04451048f763"
      },
      "source": [
        "from sklearn.cluster import DBSCAN\n",
        "dbscan = DBSCAN(eps = 15, min_samples = minPts).fit(review_vectors)\n",
        "input_df['DBSCAN_Cluster Labels'] = dbscan.labels_\n",
        "print(input_df.groupby(['DBSCAN_Cluster Labels'])['Reviews'].count())\n"
      ],
      "execution_count": 14,
      "outputs": [
        {
          "output_type": "stream",
          "text": [
            "DBSCAN_Cluster Labels\n",
            "0    25000\n",
            "Name: Reviews, dtype: int64\n"
          ],
          "name": "stdout"
        }
      ]
    },
    {
      "cell_type": "code",
      "metadata": {
        "colab": {
          "base_uri": "https://localhost:8080/",
          "height": 288
        },
        "id": "_qJfE1bV8itE",
        "outputId": "28d73a51-8689-44db-a27c-fcb06993833f"
      },
      "source": [
        "#Hierarchical clustering\n",
        "\n",
        "import scipy\n",
        "from scipy.cluster import hierarchy\n",
        "dendro=hierarchy.dendrogram(hierarchy.linkage(review_vectors,method='ward'))\n",
        "plt.axhline(y=100)# cut at 100\n",
        "\n"
      ],
      "execution_count": 15,
      "outputs": [
        {
          "output_type": "execute_result",
          "data": {
            "text/plain": [
              "<matplotlib.lines.Line2D at 0x7f7b20720fd0>"
            ]
          },
          "metadata": {
            "tags": []
          },
          "execution_count": 15
        },
        {
          "output_type": "display_data",
          "data": {
            "image/png": "[encoded data removed]",
            "text/plain": [
              "<Figure size 432x288 with 1 Axes>"
            ]
          },
          "metadata": {
            "tags": [],
            "needs_background": "light"
          }
        }
      ]
    },
    {
      "cell_type": "code",
      "metadata": {
        "colab": {
          "base_uri": "https://localhost:8080/"
        },
        "id": "Qiz8-x2pBC6p",
        "outputId": "7859e467-ce0a-4b57-b727-d32ad4197c93"
      },
      "source": [
        "from sklearn.cluster import AgglomerativeClustering \n",
        "h_clustering = AgglomerativeClustering(n_clusters=7, affinity='euclidean', linkage='ward') \n",
        "Agg=h_clustering.fit_predict(review_vectors)\n",
        "labels= h_clustering.labels_\n",
        "input_df['Hierarchical_Cluster Labels'] = labels\n",
        "input_df.groupby(['Hierarchical_Cluster Labels'])['Reviews'].count()\n"
      ],
      "execution_count": 16,
      "outputs": [
        {
          "output_type": "execute_result",
          "data": {
            "text/plain": [
              "Hierarchical_Cluster Labels\n",
              "0    5788\n",
              "1    1162\n",
              "2    6354\n",
              "3     903\n",
              "4    2079\n",
              "5    2608\n",
              "6    6106\n",
              "Name: Reviews, dtype: int64"
            ]
          },
          "metadata": {
            "tags": []
          },
          "execution_count": 16
        }
      ]
    },
    {
      "cell_type": "markdown",
      "metadata": {
        "id": "pGAGh20hb14e"
      },
      "source": [
        "In one paragraph, please compare K means, DBSCAN and Hierarchical clustering. "
      ]
    },
    {
      "cell_type": "code",
      "metadata": {
        "id": "yYPXMiIkb14f"
      },
      "source": [
        "#You can write you answer here.\n",
        "K-means is a partition based clustering. It divides the data points into k number of groups. They are also called as clusters. They perform the operation based on Eucledian distance formula. Whereas D scan is a density based algorithm. This method follows a protocol that the neighbourhood points within the radius should have minimum number of points.This algorithm is efficient. In hierarchiical clustering, there is no fixed number of clusters. It is a set of nested clusters that are arranged as a tree. They can be applicable to any type of attributes."
      ],
      "execution_count": null,
      "outputs": []
    }
  ]
}