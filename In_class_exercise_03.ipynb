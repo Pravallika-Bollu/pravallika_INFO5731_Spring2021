{
  "nbformat": 4,
  "nbformat_minor": 0,
  "metadata": {
    "kernelspec": {
      "display_name": "Python 3",
      "language": "python",
      "name": "python3"
    },
    "language_info": {
      "codemirror_mode": {
        "name": "ipython",
        "version": 3
      },
      "file_extension": ".py",
      "mimetype": "text/x-python",
      "name": "python",
      "nbconvert_exporter": "python",
      "pygments_lexer": "ipython3",
      "version": "3.7.4"
    },
    "colab": {
      "name": "In-class-exercise-03.ipynb",
      "provenance": [],
      "toc_visible": true,
      "include_colab_link": true
    }
  },
  "cells": [
    {
      "cell_type": "markdown",
      "metadata": {
        "id": "view-in-github",
        "colab_type": "text"
      },
      "source": [
        "<a href=\"https://colab.research.google.com/github/Pravallika-Bollu/pravallika_INFO5731_Spring2021/blob/main/In_class_exercise_03.ipynb\" target=\"_parent\"><img src=\"https://colab.research.google.com/assets/colab-badge.svg\" alt=\"Open In Colab\"/></a>"
      ]
    },
    {
      "cell_type": "markdown",
      "metadata": {
        "id": "b22KmgG_Rd6V"
      },
      "source": [
        "## The third In-class-exercise (9/16/2020, 20 points in total)"
      ]
    },
    {
      "cell_type": "markdown",
      "metadata": {
        "id": "vUTMdbMSRd6a"
      },
      "source": [
        "The purpose of this exercise is to under users' information needs, then collect the data for analysis."
      ]
    },
    {
      "cell_type": "markdown",
      "metadata": {
        "id": "VrXFrvLYRd6b"
      },
      "source": [
        "Question 1 (8 points): Describe an interesting research question (or practical question) you have in mind, what kind of data should be collected to answer the question(s)? How many data needed for the analysis? The detail steps for collecting and save the data. "
      ]
    },
    {
      "cell_type": "code",
      "metadata": {
        "id": "byMkayK9Rd6c"
      },
      "source": [
        "# Your answer here (no code for this question, write down your answer as detail as possible for the above questions):\n",
        "\n",
        "'''\n",
        "Please write you answer here:\n",
        "I am very much fascinated about reading novels or any kind of books. So, I would like to pick the research topic on novels. I can do more analysis on the books based on the reviews in the website and know about its author and the sample data of the book. Here I have collected the title of the books and its price which are available in the website. I can search the name of the book which I am looking for and know its price. According to my research plan I am collecting the total number of the books available in the website.\n",
        "\n",
        "here i have imported the libraries\n",
        "Read Html link using urllib\n",
        "parsing of the html link using beautiful soup\n",
        "Look for tag that contains all the products of that particular webpage and extract it.\n",
        "Look for tag that displays the name and cost of the book and extract it.\n",
        "Save in csv file about all the data collected.\n"
      ],
      "execution_count": null,
      "outputs": []
    },
    {
      "cell_type": "markdown",
      "metadata": {
        "id": "Anjsk-g6Rd6e"
      },
      "source": [
        "Question 2 (12 points): Write python code to collect 500 items of the data you plan to collect above."
      ]
    },
    {
      "cell_type": "code",
      "metadata": {
        "colab": {
          "base_uri": "https://localhost:8080/"
        },
        "id": "POler5RuRd6i",
        "outputId": "7b3b0d59-6c67-4b48-ffd1-ad95394fe9c1"
      },
      "source": [
        "# You code here (Please add comments in the code):\n",
        "from urllib.request import urlopen as uReq\n",
        "from bs4 import BeautifulSoup as soup\n",
        "\n",
        "myurl='http://books.toscrape.com/catalogue/page-3.html'\n",
        "uClient = uReq(myurl) \n",
        "page_html = uClient.read() \n",
        "uClient.close() \n",
        "page_soup = soup(page_html, \"html.parser\") \n",
        "bookshelf = page_soup.findAll(\"li\", {\"class\": \"col-xs-6 col-sm-4 col-md-3 col-lg-3\"})\n",
        "filename = (\"Novels.csv\") \n",
        "f = open(filename, \"w\") \n",
        "headers = \"Name of the Novel, cost\\n\"\n",
        "f.write(headers) \n",
        "\n",
        "for novels in bookshelf: \n",
        "  Novel = novels.h3.a[\"title\"] \n",
        "  novel_price = novels.findAll(\"p\", {\"class\": \"price_color\"}) \n",
        "  cost = novel_price[0].text.strip()\n",
        "  print(\"Name of the Novel :\" + Novel) \n",
        "  print(\"cost of the Novel :\" + cost) \n",
        "  f.write(Novel + \",\" + cost+\"\\n\") \n",
        "f.close() \n",
        "\n",
        "\n",
        "\n",
        "\n"
      ],
      "execution_count": 6,
      "outputs": [
        {
          "output_type": "stream",
          "text": [
            "Name of the Novel :Slow States of Collapse: Poems\n",
            "cost of the Novel :£57.31\n",
            "Name of the Novel :Reasons to Stay Alive\n",
            "cost of the Novel :£26.41\n",
            "Name of the Novel :Private Paris (Private #10)\n",
            "cost of the Novel :£47.61\n",
            "Name of the Novel :#HigherSelfie: Wake Up Your Life. Free Your Soul. Find Your Tribe.\n",
            "cost of the Novel :£23.11\n",
            "Name of the Novel :Without Borders (Wanderlove #1)\n",
            "cost of the Novel :£45.07\n",
            "Name of the Novel :When We Collided\n",
            "cost of the Novel :£31.77\n",
            "Name of the Novel :We Love You, Charlie Freeman\n",
            "cost of the Novel :£50.27\n",
            "Name of the Novel :Untitled Collection: Sabbath Poems 2014\n",
            "cost of the Novel :£14.27\n",
            "Name of the Novel :Unseen City: The Majesty of Pigeons, the Discreet Charm of Snails & Other Wonders of the Urban Wilderness\n",
            "cost of the Novel :£44.18\n",
            "Name of the Novel :Unicorn Tracks\n",
            "cost of the Novel :£18.78\n",
            "Name of the Novel :Unbound: How Eight Technologies Made Us Human, Transformed Society, and Brought Our World to the Brink\n",
            "cost of the Novel :£25.52\n",
            "Name of the Novel :Tsubasa: WoRLD CHRoNiCLE 2 (Tsubasa WoRLD CHRoNiCLE #2)\n",
            "cost of the Novel :£16.28\n",
            "Name of the Novel :Throwing Rocks at the Google Bus: How Growth Became the Enemy of Prosperity\n",
            "cost of the Novel :£31.12\n",
            "Name of the Novel :This One Summer\n",
            "cost of the Novel :£19.49\n",
            "Name of the Novel :Thirst\n",
            "cost of the Novel :£17.27\n",
            "Name of the Novel :The Torch Is Passed: A Harding Family Story\n",
            "cost of the Novel :£19.09\n",
            "Name of the Novel :The Secret of Dreadwillow Carse\n",
            "cost of the Novel :£56.13\n",
            "Name of the Novel :The Pioneer Woman Cooks: Dinnertime: Comfort Classics, Freezer Food, 16-Minute Meals, and Other Delicious Ways to Solve Supper!\n",
            "cost of the Novel :£56.41\n",
            "Name of the Novel :The Past Never Ends\n",
            "cost of the Novel :£56.50\n",
            "Name of the Novel :The Natural History of Us (The Fine Art of Pretending #2)\n",
            "cost of the Novel :£45.22\n"
          ],
          "name": "stdout"
        }
      ]
    }
  ]
}